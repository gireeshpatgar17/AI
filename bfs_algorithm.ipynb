{
 "cells": [
  {
   "cell_type": "code",
   "execution_count": 1,
   "id": "58fa9d4c-ddda-4ff0-9bf1-5ceba345dc65",
   "metadata": {},
   "outputs": [],
   "source": [
    "from collections import deque\n"
   ]
  },
  {
   "cell_type": "code",
   "execution_count": 3,
   "id": "0c5483bd-0729-48b1-afa4-e46afd82cd81",
   "metadata": {},
   "outputs": [],
   "source": [
    " graph={\n",
    "     'A':['B','C'],\n",
    "     'B':['D','E'],\n",
    "     'C':['F'],\n",
    "     'D':[],\n",
    "     'E':[],\n",
    "     'F':[],\n",
    " }"
   ]
  },
  {
   "cell_type": "code",
   "execution_count": 11,
   "id": "054c1eb7-52c3-4dc2-ab94-e15878a3fd29",
   "metadata": {},
   "outputs": [
    {
     "name": "stdout",
     "output_type": "stream",
     "text": [
      "BFS Traversal Order: \n",
      "ABCDEF"
     ]
    }
   ],
   "source": [
    "def bfs(graph,start_node):\n",
    "    \"\"\"Perform Breadth-First Search(BFS) on a graph starting from given node.\"\"\"\n",
    "    visited=set();\n",
    "    queue=deque([start_node])\n",
    "    print(\"BFS Traversal Order: \");\n",
    "    while queue:\n",
    "        current_node=queue.popleft();\n",
    "        if current_node not in visited:\n",
    "            print(current_node,end=\"\")\n",
    "            visited.add(current_node)\n",
    "            for neighbour in graph[current_node]:\n",
    "                if neighbour not in visited:\n",
    "                    queue.append(neighbour);\n",
    "\n",
    "bfs(graph,'A');"
   ]
  },
  {
   "cell_type": "code",
   "execution_count": null,
   "id": "884f4c42-9f65-4f4d-b18d-0fa0aedffecc",
   "metadata": {},
   "outputs": [],
   "source": []
  }
 ],
 "metadata": {
  "kernelspec": {
   "display_name": "Python [conda env:base] *",
   "language": "python",
   "name": "conda-base-py"
  },
  "language_info": {
   "codemirror_mode": {
    "name": "ipython",
    "version": 3
   },
   "file_extension": ".py",
   "mimetype": "text/x-python",
   "name": "python",
   "nbconvert_exporter": "python",
   "pygments_lexer": "ipython3",
   "version": "3.12.4"
  }
 },
 "nbformat": 4,
 "nbformat_minor": 5
}
