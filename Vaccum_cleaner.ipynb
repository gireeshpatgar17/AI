{
 "cells": [
  {
   "cell_type": "code",
   "execution_count": 73,
   "id": "2b29671f-5e1e-479c-882d-beb0f60ddb85",
   "metadata": {},
   "outputs": [],
   "source": [
    "import random"
   ]
  },
  {
   "cell_type": "code",
   "execution_count": 75,
   "id": "75a21a0f-828c-47dd-8a96-3d33d22d0e77",
   "metadata": {},
   "outputs": [],
   "source": [
    "def display(room):\n",
    "    print(room)"
   ]
  },
  {
   "cell_type": "code",
   "execution_count": 77,
   "id": "5145e21d-a138-4c9d-bd82-75c52e785245",
   "metadata": {},
   "outputs": [
    {
     "name": "stdout",
     "output_type": "stream",
     "text": [
      "All the rooms are dirty\n",
      "[[1, 1, 1, 1], [1, 1, 1, 1], [1, 1, 1, 1], [1, 1, 1, 1]]\n"
     ]
    }
   ],
   "source": [
    "room=[\n",
    "    [1,1,1,1],\n",
    "    [1,1,1,1],\n",
    "    [1,1,1,1],\n",
    "    [1,1,1,1],\n",
    "]\n",
    "print(\"All the rooms are dirty\")\n",
    "display(room)"
   ]
  },
  {
   "cell_type": "code",
   "execution_count": 119,
   "id": "4181d968-c5a0-4c78-81e9-ee42d0a80887",
   "metadata": {},
   "outputs": [],
   "source": [
    "x=0;\n",
    "y=0;\n",
    "while x<4:\n",
    "    while y<4:\n",
    "        room[x][y]=random.choice([0,1])\n",
    "        y+=1;\n",
    "    x+=1;\n",
    "    y=0"
   ]
  },
  {
   "cell_type": "code",
   "execution_count": 121,
   "id": "ccd5cd65-9394-4cae-8d1d-bfab2337cb91",
   "metadata": {},
   "outputs": [
    {
     "name": "stdout",
     "output_type": "stream",
     "text": [
      "Before cleaning the room,I detect all of these random dirts\n",
      "[[0, 0, 1, 1], [1, 1, 1, 1], [0, 0, 1, 0], [0, 0, 0, 0]]\n"
     ]
    }
   ],
   "source": [
    "print(\"Before cleaning the room,I detect all of these random dirts\");\n",
    "display(room);"
   ]
  },
  {
   "cell_type": "code",
   "execution_count": 123,
   "id": "1b75994d-1622-4c0a-a478-efbf06d49d93",
   "metadata": {},
   "outputs": [],
   "source": [
    "x=0;\n",
    "y=0;\n",
    "z=0;\n"
   ]
  },
  {
   "cell_type": "code",
   "execution_count": 125,
   "id": "0f6c2446-a6b8-4f7a-8d23-07b5ff1a5f5d",
   "metadata": {},
   "outputs": [
    {
     "name": "stdout",
     "output_type": "stream",
     "text": [
      "Vaccum in this location now: 0 2\n",
      "Cleaned: 0 2\n",
      "Vaccum in this location now: 0 3\n",
      "Cleaned: 0 3\n",
      "Vaccum in this location now: 1 0\n",
      "Cleaned: 1 0\n",
      "Vaccum in this location now: 1 1\n",
      "Cleaned: 1 1\n",
      "Vaccum in this location now: 1 2\n",
      "Cleaned: 1 2\n",
      "Vaccum in this location now: 1 3\n",
      "Cleaned: 1 3\n",
      "Vaccum in this location now: 2 2\n",
      "Cleaned: 2 2\n"
     ]
    }
   ],
   "source": [
    "while x<4:\n",
    "    while y<4:\n",
    "        if room[x][y]==1:\n",
    "            print(\"Vaccum in this location now:\",x,y);\n",
    "            room[x][y]=0;\n",
    "            print(\"Cleaned:\",x,y);\n",
    "            z+=1;\n",
    "        y+=1;\n",
    "    x+=1;\n",
    "    y=0;"
   ]
  },
  {
   "cell_type": "code",
   "execution_count": 130,
   "id": "e2bf3a77-4941-492f-ad00-a2faa73c00b6",
   "metadata": {},
   "outputs": [
    {
     "name": "stdout",
     "output_type": "stream",
     "text": [
      "Room is clean now, Thanks for using the Robot vaccum cleaner!\n",
      "[[0, 0, 0, 0], [0, 0, 0, 0], [0, 0, 0, 0], [0, 0, 0, 0]]\n",
      "Performance= 56.25 %\n"
     ]
    }
   ],
   "source": [
    "Performance=(100-((z/16)*100))\n",
    "print(\"Room is clean now, Thanks for using the Robot vaccum cleaner!\");\n",
    "display(room);\n",
    "print(\"Performance=\",Performance,\"%\");\n"
   ]
  }
 ],
 "metadata": {
  "kernelspec": {
   "display_name": "Python [conda env:base] *",
   "language": "python",
   "name": "conda-base-py"
  },
  "language_info": {
   "codemirror_mode": {
    "name": "ipython",
    "version": 3
   },
   "file_extension": ".py",
   "mimetype": "text/x-python",
   "name": "python",
   "nbconvert_exporter": "python",
   "pygments_lexer": "ipython3",
   "version": "3.12.4"
  }
 },
 "nbformat": 4,
 "nbformat_minor": 5
}
